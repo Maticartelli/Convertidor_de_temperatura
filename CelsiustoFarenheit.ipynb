{
 "cells": [
  {
   "cell_type": "code",
   "execution_count": 29,
   "id": "86c33789",
   "metadata": {},
   "outputs": [],
   "source": [
    "import tensorflow as tf\n",
    "import numpy as np\n",
    "import matplotlib.pyplot as plt\n"
   ]
  },
  {
   "cell_type": "code",
   "execution_count": 65,
   "id": "8ba69d28",
   "metadata": {},
   "outputs": [],
   "source": [
    "celsius = np.array([-40,-10,0,8,15,22,38],dtype=float)\n",
    "farenheit = np.array([-40,14,32,46.4,59,71.6,100.4],dtype=float)"
   ]
  },
  {
   "cell_type": "code",
   "execution_count": 72,
   "id": "007ac891",
   "metadata": {},
   "outputs": [],
   "source": [
    "capa = tf.keras.layers.Dense(units=1, input_shape=[1])\n",
    "modelo = tf.keras.Sequential([capa])"
   ]
  },
  {
   "cell_type": "code",
   "execution_count": 73,
   "id": "34e007fe",
   "metadata": {},
   "outputs": [],
   "source": [
    "modelo.compile(\n",
    "    optimizer = tf.keras.optimizers.Adam(0.1),\n",
    "    loss='mean_squared_error'\n",
    ")"
   ]
  },
  {
   "cell_type": "code",
   "execution_count": 82,
   "id": "a265774d",
   "metadata": {},
   "outputs": [
    {
     "name": "stdout",
     "output_type": "stream",
     "text": [
      "En entrenamiento...\n",
      "Ya está!\n"
     ]
    }
   ],
   "source": [
    "print(\"En entrenamiento...\")\n",
    "historial = modelo.fit(celsius, farenheit, epochs=600,verbose=False)\n",
    "print(\"Ya está!\")"
   ]
  },
  {
   "cell_type": "code",
   "execution_count": 83,
   "id": "f7fdcc01",
   "metadata": {},
   "outputs": [
    {
     "data": {
      "text/plain": [
       "[<matplotlib.lines.Line2D at 0x1373ab192b0>]"
      ]
     },
     "execution_count": 83,
     "metadata": {},
     "output_type": "execute_result"
    },
    {
     "data": {
      "image/png": "[encoded data removed]",
      "text/plain": [
       "<Figure size 432x288 with 1 Axes>"
      ]
     },
     "metadata": {
      "needs_background": "light"
     },
     "output_type": "display_data"
    }
   ],
   "source": [
    "plt.xlabel(\"# de Intentos\")\n",
    "plt.ylabel(\"Error\")\n",
    "plt.grid(\"True\")\n",
    "plt.plot(historial.history[\"loss\"])"
   ]
  },
  {
   "cell_type": "code",
   "execution_count": 84,
   "id": "e3c2fe53",
   "metadata": {},
   "outputs": [
    {
     "name": "stdout",
     "output_type": "stream",
     "text": [
      "Pasamos 100 celsius a farenheit usando una red neuronal simple.\n",
      "El resultado es [[212.]] farenheit\n"
     ]
    }
   ],
   "source": [
    "print(\"Pasamos 100 celsius a farenheit usando una red neuronal simple.\")\n",
    "Resultado = modelo.predict([100.0])\n",
    "print(\"El resultado es \"+ str(Resultado) + \" farenheit\")"
   ]
  },
  {
   "cell_type": "code",
   "execution_count": 85,
   "id": "d47d1233",
   "metadata": {},
   "outputs": [
    {
     "name": "stdout",
     "output_type": "stream",
     "text": [
      "Variables internas del modelo\n",
      "[array([[1.8000004]], dtype=float32), array([31.999949], dtype=float32)]\n"
     ]
    }
   ],
   "source": [
    "print(\"Variables internas del modelo\")\n",
    "print(capa.get_weights())"
   ]
  },
  {
   "cell_type": "markdown",
   "id": "0839f763",
   "metadata": {},
   "source": [
    "Entonces tenemos que a nuestra variable de entrada (grados celsius) se la multiplíca por $1.8$ y luego se le suma $32$ para obtener los grados farenheit. En resumen, llegamos a la fórmula para pasar de grados celsius a farenheit tan solo utilizando 7 datos conocidos."
   ]
  },
  {
   "cell_type": "code",
   "execution_count": null,
   "id": "3c216a33",
   "metadata": {},
   "outputs": [],
   "source": []
  }
 ],
 "metadata": {
  "kernelspec": {
   "display_name": "Python 3 (ipykernel)",
   "language": "python",
   "name": "python3"
  },
  "language_info": {
   "codemirror_mode": {
    "name": "ipython",
    "version": 3
   },
   "file_extension": ".py",
   "mimetype": "text/x-python",
   "name": "python",
   "nbconvert_exporter": "python",
   "pygments_lexer": "ipython3",
   "version": "3.8.3"
  }
 },
 "nbformat": 4,
 "nbformat_minor": 5
}
